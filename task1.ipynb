{
 "cells": [
  {
   "cell_type": "code",
   "execution_count": 2,
   "metadata": {},
   "outputs": [
    {
     "name": "stderr",
     "output_type": "stream",
     "text": [
      "2025-04-22 21:27:53.624883: I tensorflow/core/platform/cpu_feature_guard.cc:193] This TensorFlow binary is optimized with oneAPI Deep Neural Network Library (oneDNN) to use the following CPU instructions in performance-critical operations:  SSE4.1 SSE4.2\n",
      "To enable them in other operations, rebuild TensorFlow with the appropriate compiler flags.\n"
     ]
    },
    {
     "name": "stdout",
     "output_type": "stream",
     "text": [
      "Sentence 1:\n",
      "[-0.01186156 -0.00205345 -0.00344327  0.02032673  0.03441968] ...\n",
      "Sentence 2:\n",
      "[-0.00659874  0.00383072 -0.01010892  0.01201109  0.03641137] ...\n",
      "Sentence 3:\n",
      "[-0.02178474 -0.01185572  0.00432812  0.02263459  0.01844462] ...\n"
     ]
    }
   ],
   "source": [
    "import torch\n",
    "from transformers import AutoTokenizer, AutoModel\n",
    "import torch.nn.functional as F\n",
    "\n",
    "class SentenceTransformer(torch.nn.Module):\n",
    "    def __init__(self, model_name='distilbert-base-uncased', pooling='mean'):\n",
    "        super(SentenceTransformer, self).__init__()\n",
    "        self.tokenizer = AutoTokenizer.from_pretrained(model_name)\n",
    "        self.encoder = AutoModel.from_pretrained(model_name)\n",
    "        self.pooling = pooling\n",
    "\n",
    "    def forward(self, sentences):\n",
    "        inputs = self.tokenizer(sentences, padding=True, truncation=True, return_tensors='pt')\n",
    "        outputs = self.encoder(**inputs)\n",
    "        token_embeddings = outputs.last_hidden_state  # (batch_size, seq_len, hidden_size)\n",
    "\n",
    "        if self.pooling == 'mean':\n",
    "            input_mask_expanded = inputs['attention_mask'].unsqueeze(-1).expand(token_embeddings.size())\n",
    "            sum_embeddings = torch.sum(token_embeddings * input_mask_expanded, dim=1)\n",
    "            sum_mask = input_mask_expanded.sum(dim=1)\n",
    "            sentence_embeddings = sum_embeddings / sum_mask\n",
    "        elif self.pooling == 'cls':\n",
    "            sentence_embeddings = token_embeddings[:, 0]\n",
    "        else:\n",
    "            raise ValueError(\"Unsupported pooling method\")\n",
    "\n",
    "        return F.normalize(sentence_embeddings, p=2, dim=1)\n",
    "\n",
    "if __name__ == '__main__':\n",
    "    model = SentenceTransformer()\n",
    "    model.eval()\n",
    "\n",
    "    sample_sentences = [\n",
    "        \"The quick brown fox jumps over the lazy dog.\",\n",
    "        \"A fast, dark-colored fox leaps across a sleepy canine.\",\n",
    "        \"Transformers are state-of-the-art for NLP tasks.\"\n",
    "    ]\n",
    "\n",
    "    with torch.no_grad():\n",
    "        embeddings = model(sample_sentences)\n",
    "\n",
    "    for i, emb in enumerate(embeddings):\n",
    "        print(f\"Sentence {i + 1}:\")\n",
    "        print(emb.numpy()[:5], '...')  # Show first 5 values for brevity\n"
   ]
  },
  {
   "cell_type": "code",
   "execution_count": 3,
   "metadata": {},
   "outputs": [
    {
     "data": {
      "text/plain": [
       "tensor([0.9033])"
      ]
     },
     "execution_count": 3,
     "metadata": {},
     "output_type": "execute_result"
    }
   ],
   "source": [
    "F.cosine_similarity(embeddings[0].unsqueeze(0), embeddings[1].unsqueeze(0))"
   ]
  },
  {
   "cell_type": "code",
   "execution_count": 4,
   "metadata": {},
   "outputs": [
    {
     "data": {
      "text/plain": [
       "tensor([0.5787])"
      ]
     },
     "execution_count": 4,
     "metadata": {},
     "output_type": "execute_result"
    }
   ],
   "source": [
    "F.cosine_similarity(embeddings[0].unsqueeze(0), embeddings[2].unsqueeze(0))"
   ]
  },
  {
   "cell_type": "code",
   "execution_count": 5,
   "metadata": {},
   "outputs": [
    {
     "data": {
      "text/plain": [
       "tensor([0.6053])"
      ]
     },
     "execution_count": 5,
     "metadata": {},
     "output_type": "execute_result"
    }
   ],
   "source": [
    "F.cosine_similarity(embeddings[1].unsqueeze(0), embeddings[2].unsqueeze(0))"
   ]
  },
  {
   "cell_type": "code",
   "execution_count": null,
   "metadata": {},
   "outputs": [],
   "source": []
  }
 ],
 "metadata": {
  "kernelspec": {
   "display_name": "mangesh",
   "language": "python",
   "name": "python3"
  },
  "language_info": {
   "codemirror_mode": {
    "name": "ipython",
    "version": 3
   },
   "file_extension": ".py",
   "mimetype": "text/x-python",
   "name": "python",
   "nbconvert_exporter": "python",
   "pygments_lexer": "ipython3",
   "version": "3.9.18"
  }
 },
 "nbformat": 4,
 "nbformat_minor": 2
}
